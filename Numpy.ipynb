{
 "cells": [
  {
   "cell_type": "markdown",
   "metadata": {},
   "source": [
    "<div style=\"display:block;width:100%;margin:auto;\" direction=rtl align=center><br><br>\n",
    "    <div  style=\"width:100%;margin:100;display:block;background-color:#fff0;\"  display=block align=center>\n",
    "        <table style=\"border-style:hidden;border-collapse:collapse;\">\n",
    "            <tr>\n",
    "                <td  style=\"border: none!important;\">\n",
    "                    <img width=130 align=right src=\"https://i.ibb.co/yXKQmtZ/logo1.png\" style=\"margin:0;\" />\n",
    "                </td>\n",
    "                <td style=\"text-align:center;border: none!important;\">\n",
    "                    <h1 align=center><font size=5 color=\"skyblue\">University of Tehran</i></font></h1>\n",
    "                </td>\n",
    "                <td style=\"border: none!important;\">\n",
    "                    <img width=170 align=left  src=\"https://i.ibb.co/wLjqFkw/logo2.png\" style=\"margin:0;\" />\n",
    "                </td>\n",
    "            </tr>\n",
    "        </table>\n",
    "    </div>\n",
    "</div>"
   ]
  },
  {
   "cell_type": "markdown",
   "metadata": {},
   "source": [
    "<h1 style = \"color:orange;\" dir = \"ltr\"> <b>\n",
    "    Summer Class\n",
    "</b> </h1>\n",
    "\n",
    "<h1 style = \"color:orange;\" dir = \"ltr\"> <b>\n",
    "    Python Tutorial\n",
    "</b> </h1>\n",
    "\n",
    "<h1 style = \"color:orange;\" dir = \"ltr\"> <b>\n",
    "    Written by Babak Hosseini Mohtasham\n",
    "</b> </h1>\n"
   ]
  },
  {
   "cell_type": "markdown",
   "metadata": {},
   "source": [
    "<h1 style = \"color:red;text-align: center;font-size:50px\"> <b>\n",
    "    Table of Contents\n",
    "</b> </h1>"
   ]
  },
  {
   "cell_type": "markdown",
   "metadata": {},
   "source": [
    "- [Numpy](#mt1)  \n",
    "\n",
    "    - [What is numpy?](#st1)\n",
    "\n",
    "    - [Installing Numpy](#st2)\n",
    "\n",
    "    - [Make a Numpy array](#st3)\n",
    "\n",
    "    - [Basics properties of a Numpy array](#st4)\n",
    "\n",
    "    - [Basic functions of a Numpy array](#st5)\n",
    "\n",
    "    - [Mathematical functions of Numpy](#st6)\n",
    "\n",
    "    - [Random from Numpy](#st7)"
   ]
  },
  {
   "cell_type": "markdown",
   "metadata": {},
   "source": [
    "<a id='mt1'></a>\n",
    "\n",
    "<h1 style = \"color:red;text-align: center;font-size:50px\"> <b>\n",
    "    Numpy\n",
    "</b> </h1>"
   ]
  },
  {
   "cell_type": "markdown",
   "metadata": {},
   "source": [
    "<a id='st1'></a>\n",
    "\n",
    "<h1 style = \"color:green;font-size:30px\" dir = \"ltr\"> <b>\n",
    "    What is numpy?:\n",
    "</b> </h1>"
   ]
  },
  {
   "cell_type": "markdown",
   "metadata": {},
   "source": [
    "**NumPy**, which stands for Numerical Python, is an open source library for Python. Numpy is one of the most popular Python packages among scientists and engineers. Numpy is consisted of a data structure called **array**. Numpy arrays are commonly used in data science and machine learning projects. Arrays are very similar to the list data structure built in Python, so why should we choose arrays over lists?\n",
    "* Arrays use the priniciple of locality to store data at one continuous place in memory unlike lists, and that makes arrays way more efficient and faster than Python lists.\n",
    "* Numpy's main functions are written in C/C++ programming languages and that makes it very fast.\n",
    "* Arrays support many different mathematical operations such as the operations performed on matrices in linear algebra, also support of multi dimensions operations is critical for data analysis.\n",
    "* Numpy has provided a very intuitive and simple api to use arrays and therefore many other famous packages such as Pandas and SKLearn are built on top of Numpy.\n",
    "\n",
    "So now let's see how we can use Numpy in our own projects."
   ]
  },
  {
   "cell_type": "markdown",
   "metadata": {},
   "source": [
    "<a id='st2'></a>\n",
    "\n",
    "<h1 style = \"color:green;font-size:30px\" dir = \"ltr\"> <b>\n",
    "    Installing Numpy:\n",
    "</b> </h1>"
   ]
  },
  {
   "cell_type": "markdown",
   "metadata": {},
   "source": [
    "There are a few different ways to install Numpy the simplest one is to run the following command in a terminal:\n",
    "```python\n",
    "pip install numpy\n",
    "```\n",
    "Then you can import it in your Python project. Numpy is usually imported as np."
   ]
  },
  {
   "cell_type": "code",
   "execution_count": 73,
   "metadata": {},
   "outputs": [],
   "source": [
    "import numpy as np"
   ]
  },
  {
   "cell_type": "markdown",
   "metadata": {},
   "source": [
    "<a id='st3'></a>\n",
    "\n",
    "<h1 style = \"color:green;font-size:30px\" dir = \"ltr\"> <b>\n",
    "    Make a Numpy array:\n",
    "</b> </h1>"
   ]
  },
  {
   "cell_type": "markdown",
   "metadata": {},
   "source": [
    "There are several different ways to make a numpy array:"
   ]
  },
  {
   "cell_type": "markdown",
   "metadata": {},
   "source": [
    "1. Convert an existing data structure to a Numpy array. We can simply convert a list, tuple, set or almost any other data structure to an array simply by writing (don't put *): \n",
    "```python\n",
    "np.array(*Our data structure*)\n",
    "```"
   ]
  },
  {
   "cell_type": "code",
   "execution_count": 74,
   "metadata": {},
   "outputs": [],
   "source": [
    "my_list = [1, 2, 3, 4, 5]\n",
    "my_array_1 = np.array(my_list)"
   ]
  },
  {
   "cell_type": "markdown",
   "metadata": {},
   "source": [
    "now let's print the array to see its elements. To print the elements of an array we can simply use the `print` function of Python"
   ]
  },
  {
   "cell_type": "code",
   "execution_count": 75,
   "metadata": {},
   "outputs": [
    {
     "name": "stdout",
     "output_type": "stream",
     "text": [
      "[1 2 3 4 5]\n"
     ]
    }
   ],
   "source": [
    "print(my_array_1)"
   ]
  },
  {
   "cell_type": "markdown",
   "metadata": {},
   "source": [
    "2. Make an array of some **shape** filled with a specific value. The shape of an array is a tuple showing the number of elements in each dimension. We can make an array in this way by writing:\n",
    "```python\n",
    "np.full(*Shape*,*Value to fill*)\n",
    "```"
   ]
  },
  {
   "cell_type": "code",
   "execution_count": 76,
   "metadata": {},
   "outputs": [
    {
     "name": "stdout",
     "output_type": "stream",
     "text": [
      "[[5 5 5]\n",
      " [5 5 5]]\n"
     ]
    }
   ],
   "source": [
    "my_array_2_1 = np.full((2,3),5)\n",
    "print(my_array_2_1)"
   ]
  },
  {
   "cell_type": "markdown",
   "metadata": {},
   "source": [
    "There are also `np.ones` and `np.zeros` functions which make an array filled with value 1 or 0."
   ]
  },
  {
   "cell_type": "code",
   "execution_count": 77,
   "metadata": {},
   "outputs": [
    {
     "name": "stdout",
     "output_type": "stream",
     "text": [
      "[[1. 1.]\n",
      " [1. 1.]\n",
      " [1. 1.]]\n"
     ]
    }
   ],
   "source": [
    "my_array_2_2 = np.ones((3,2))\n",
    "print(my_array_2_2)"
   ]
  },
  {
   "cell_type": "code",
   "execution_count": 78,
   "metadata": {},
   "outputs": [
    {
     "name": "stdout",
     "output_type": "stream",
     "text": [
      "[0. 0.]\n"
     ]
    }
   ],
   "source": [
    "my_array_2_2 = np.zeros((2))\n",
    "print(my_array_2_2)"
   ]
  },
  {
   "cell_type": "markdown",
   "metadata": {},
   "source": [
    "3. Make an array filled with a specific value that has a shape like the shape of another array. This is like the previous function but here we give another array as input so the new array will have the same shape as the other array.\n",
    "```python\n",
    "np.full_like(*The array we want its shape*,*Value to fill*)\n",
    "```"
   ]
  },
  {
   "cell_type": "code",
   "execution_count": 79,
   "metadata": {},
   "outputs": [
    {
     "data": {
      "text/plain": [
       "array([5, 5, 5, 5, 5])"
      ]
     },
     "execution_count": 79,
     "metadata": {},
     "output_type": "execute_result"
    }
   ],
   "source": [
    "np.full_like(my_array_1, 5)"
   ]
  },
  {
   "cell_type": "markdown",
   "metadata": {},
   "source": [
    "Same as before there are also functions for filling arrays with 1 or 0 called `np.ones_like` and `np.zeros_like`."
   ]
  },
  {
   "cell_type": "code",
   "execution_count": 80,
   "metadata": {},
   "outputs": [
    {
     "data": {
      "text/plain": [
       "array([1., 1.])"
      ]
     },
     "execution_count": 80,
     "metadata": {},
     "output_type": "execute_result"
    }
   ],
   "source": [
    "np.ones_like(my_array_2_2)"
   ]
  },
  {
   "cell_type": "code",
   "execution_count": 81,
   "metadata": {},
   "outputs": [
    {
     "data": {
      "text/plain": [
       "array([[0, 0, 0],\n",
       "       [0, 0, 0]])"
      ]
     },
     "execution_count": 81,
     "metadata": {},
     "output_type": "execute_result"
    }
   ],
   "source": [
    "np.zeros_like(my_array_2_1)"
   ]
  },
  {
   "cell_type": "markdown",
   "metadata": {},
   "source": [
    "4. Make a copy of another array. Like lists, if you write list_2=list_1 Python makes a shallow copy of list_1 so making any changes to one list causes the same changes to the other list. To make a deep copy of an array we can use the `copy` function."
   ]
  },
  {
   "cell_type": "code",
   "execution_count": 82,
   "metadata": {},
   "outputs": [
    {
     "name": "stdout",
     "output_type": "stream",
     "text": [
      "[1 2 3 4 5]\n",
      "[100   2   3   4   5]\n",
      "[1 2 3 4 5]\n"
     ]
    }
   ],
   "source": [
    "print(my_array_1)\n",
    "my_array_3_1 = my_array_1\n",
    "my_array_3_2 = my_array_1.copy()\n",
    "my_array_1[0]=100\n",
    "print(my_array_3_1)\n",
    "print(my_array_3_2)"
   ]
  },
  {
   "cell_type": "markdown",
   "metadata": {},
   "source": [
    "Here we can see that changing the first element of my_array_1 to 100 also changed the first element of my_array_3_1 to 100 but it didn't affect my_array_3_2."
   ]
  },
  {
   "cell_type": "markdown",
   "metadata": {},
   "source": [
    "5. Make an identity matrix of shape N x N.\n",
    "```python\n",
    "np.identity(*N*)\n",
    "```"
   ]
  },
  {
   "cell_type": "code",
   "execution_count": 83,
   "metadata": {},
   "outputs": [
    {
     "data": {
      "text/plain": [
       "array([[1., 0., 0.],\n",
       "       [0., 1., 0.],\n",
       "       [0., 0., 1.]])"
      ]
     },
     "execution_count": 83,
     "metadata": {},
     "output_type": "execute_result"
    }
   ],
   "source": [
    "np.identity(3)"
   ]
  },
  {
   "cell_type": "markdown",
   "metadata": {},
   "source": [
    "It's also possible to make the identity array using `np.eye`. This function gets number of rows and columns(optional) as input.\n",
    "```python\n",
    "np.eye(*row*,*col*)\n",
    "```"
   ]
  },
  {
   "cell_type": "code",
   "execution_count": 84,
   "metadata": {},
   "outputs": [
    {
     "data": {
      "text/plain": [
       "array([[1., 0., 0., 0.],\n",
       "       [0., 1., 0., 0.],\n",
       "       [0., 0., 1., 0.]])"
      ]
     },
     "execution_count": 84,
     "metadata": {},
     "output_type": "execute_result"
    }
   ],
   "source": [
    "np.eye(3,4)"
   ]
  },
  {
   "cell_type": "markdown",
   "metadata": {},
   "source": [
    "6. Make a list of elements from ranging from start(inclusive) to end(exclusive) incrementing by step.\n",
    "```python\n",
    "np.arange(*Start*,*End*,*Step*)\n",
    "```"
   ]
  },
  {
   "cell_type": "code",
   "execution_count": 85,
   "metadata": {},
   "outputs": [
    {
     "data": {
      "text/plain": [
       "array([ 0,  2,  4,  6,  8, 10])"
      ]
     },
     "execution_count": 85,
     "metadata": {},
     "output_type": "execute_result"
    }
   ],
   "source": [
    "np.arange(0, 12,2)"
   ]
  },
  {
   "cell_type": "markdown",
   "metadata": {},
   "source": [
    "The default values of Start and End are: 0 and 1."
   ]
  },
  {
   "cell_type": "code",
   "execution_count": 86,
   "metadata": {},
   "outputs": [
    {
     "data": {
      "text/plain": [
       "array([ 0,  1,  2,  3,  4,  5,  6,  7,  8,  9, 10, 11])"
      ]
     },
     "execution_count": 86,
     "metadata": {},
     "output_type": "execute_result"
    }
   ],
   "source": [
    "np.arange(12)"
   ]
  },
  {
   "cell_type": "markdown",
   "metadata": {},
   "source": [
    "7. Make an array of evenly spaced numbers over a specified interval(inclusive on both ends).\n",
    "```python\n",
    "np.linspace(*Start*,*End*,*Num*)\n",
    "```"
   ]
  },
  {
   "cell_type": "code",
   "execution_count": 87,
   "metadata": {},
   "outputs": [
    {
     "data": {
      "text/plain": [
       "array([ 0. ,  2.5,  5. ,  7.5, 10. ])"
      ]
     },
     "execution_count": 87,
     "metadata": {},
     "output_type": "execute_result"
    }
   ],
   "source": [
    "np.linspace(0, 10, 5)"
   ]
  },
  {
   "cell_type": "markdown",
   "metadata": {},
   "source": [
    "8. There are many other ways to create a Numpy arrays but, they are rarely used. Here are some of the other functions that can be used to create arrays: `np.asanyarray,np.asarray,np.asarray_chkfinite,np.ascontiguousarray,np.asfortranarray,np.asfarray,...`"
   ]
  },
  {
   "cell_type": "markdown",
   "metadata": {},
   "source": [
    "<a id='st4'></a>\n",
    "\n",
    "<h1 style = \"color:green;font-size:30px\" dir = \"ltr\"> <b>\n",
    "    Basics properties of a Numpy array:\n",
    "</b> </h1>"
   ]
  },
  {
   "cell_type": "markdown",
   "metadata": {},
   "source": [
    "If we use the type() function of python on arrays it returns `numpy.ndarray` which means this is an n dimensional Numpy array."
   ]
  },
  {
   "cell_type": "code",
   "execution_count": 88,
   "metadata": {},
   "outputs": [
    {
     "data": {
      "text/plain": [
       "numpy.ndarray"
      ]
     },
     "execution_count": 88,
     "metadata": {},
     "output_type": "execute_result"
    }
   ],
   "source": [
    "type(my_array_1)"
   ]
  },
  {
   "cell_type": "markdown",
   "metadata": {},
   "source": [
    "Each array has a specific shape which can be seen using `np.shape`. The shape of an array is a tuple that each element of it is equal to the number of elements the array has in that dimension. For example if the shape of an array is (4,2,3) it means it has 4 elements in its first dimension, 2 elements in its second dimension and 3 elements in its last dimension."
   ]
  },
  {
   "cell_type": "code",
   "execution_count": 89,
   "metadata": {},
   "outputs": [
    {
     "name": "stdout",
     "output_type": "stream",
     "text": [
      "(3, 2)\n"
     ]
    }
   ],
   "source": [
    "my_list = [[1,2],[3,4],[5,6]]\n",
    "my_array = np.array(my_list)\n",
    "print(my_array.shape)"
   ]
  },
  {
   "cell_type": "markdown",
   "metadata": {},
   "source": [
    "We can index an array similar to lists. For accessing the ith element of a 1d array simply write `my_array[i]`."
   ]
  },
  {
   "cell_type": "code",
   "execution_count": 90,
   "metadata": {},
   "outputs": [
    {
     "name": "stdout",
     "output_type": "stream",
     "text": [
      "1\n"
     ]
    }
   ],
   "source": [
    "my_list = [1,2,3]\n",
    "my_array = np.array(my_list)\n",
    "print(my_array[0])"
   ]
  },
  {
   "cell_type": "markdown",
   "metadata": {},
   "source": [
    "If the array has more than one dimension we can access a specific element by having the indices in each dimension. If an element has indices i1,i2,...,in in each dimension we can access it by writing `my_array[i1,i2,...,in]`."
   ]
  },
  {
   "cell_type": "code",
   "execution_count": 91,
   "metadata": {},
   "outputs": [
    {
     "name": "stdout",
     "output_type": "stream",
     "text": [
      "2\n"
     ]
    }
   ],
   "source": [
    "my_list = [[1, 2], [3, 4], [5, 6]]\n",
    "my_array = np.array(my_list)\n",
    "print(my_array[0, 1])"
   ]
  },
  {
   "cell_type": "markdown",
   "metadata": {},
   "source": [
    "Same as lists it is also possible to access elements of an array using negative indices. The -ith element of an array is same as (number of elements in that dimension - i)th element of the array, equivalently we can say by using negative indexing we can count the elements of an array from the end."
   ]
  },
  {
   "cell_type": "code",
   "execution_count": 92,
   "metadata": {},
   "outputs": [
    {
     "name": "stdout",
     "output_type": "stream",
     "text": [
      "3\n"
     ]
    }
   ],
   "source": [
    "my_list = [1, 2, 3]\n",
    "my_array = np.array(my_list)\n",
    "print(my_array[-1])"
   ]
  },
  {
   "cell_type": "markdown",
   "metadata": {},
   "source": [
    "We can also use negative indices in a multi-dimensional array."
   ]
  },
  {
   "cell_type": "code",
   "execution_count": 93,
   "metadata": {},
   "outputs": [
    {
     "name": "stdout",
     "output_type": "stream",
     "text": [
      "4\n"
     ]
    }
   ],
   "source": [
    "my_list = [[1, 2], [3, 4], [5, 6]]\n",
    "my_array = np.array(my_list)\n",
    "print(my_array[-2,-1])"
   ]
  },
  {
   "cell_type": "markdown",
   "metadata": {},
   "source": [
    "Same as lists, arrays support slicing. We can access elements from a start index(inclusive) to an end index(exclusive) of an array placed by a specific number of steps apart, the following way: \n",
    "```python\n",
    "array[*Start*:*End*:*Step*]\n",
    "```\n",
    "The default values of Start, Stop and End are: 0, length of array in that dimension and 1."
   ]
  },
  {
   "cell_type": "code",
   "execution_count": 94,
   "metadata": {},
   "outputs": [
    {
     "name": "stdout",
     "output_type": "stream",
     "text": [
      "[0 1 2 3 4 5 6 7 8 9]\n",
      "[3 4 5 6]\n"
     ]
    }
   ],
   "source": [
    "my_list = np.arange(10)\n",
    "my_array = np.array(my_list)\n",
    "print(my_array)\n",
    "print(my_array[3:7])"
   ]
  },
  {
   "cell_type": "markdown",
   "metadata": {},
   "source": [
    "Numpy arrays can store different types of data. To see what the type of an array is we can write my_array.dtype."
   ]
  },
  {
   "cell_type": "code",
   "execution_count": 95,
   "metadata": {},
   "outputs": [
    {
     "data": {
      "text/plain": [
       "dtype('int32')"
      ]
     },
     "execution_count": 95,
     "metadata": {},
     "output_type": "execute_result"
    }
   ],
   "source": [
    "np.dtype(my_array.dtype)"
   ]
  },
  {
   "cell_type": "markdown",
   "metadata": {},
   "source": [
    "Below is a list of all data types in NumPy and the characters used to represent them.\n",
    "\n",
    "* i - integer\n",
    "* b - boolean\n",
    "* u - unsigned integer\n",
    "* f - float\n",
    "* c - complex float\n",
    "* m - timedelta\n",
    "* M - datetime\n",
    "* O - object\n",
    "* S - string\n",
    "* U - unicode string\n",
    "* V - fixed chunk of memory for other type ( void )\n",
    "\n",
    "When creating an array we can specify its data type."
   ]
  },
  {
   "cell_type": "code",
   "execution_count": 96,
   "metadata": {},
   "outputs": [
    {
     "data": {
      "text/plain": [
       "array([0. , 0.5, 1. , 1.5, 2. , 2.5, 3. , 3.5, 4. , 4.5], dtype=float32)"
      ]
     },
     "execution_count": 96,
     "metadata": {},
     "output_type": "execute_result"
    }
   ],
   "source": [
    "my_array=np.arange(0,5,0.5,dtype='f')\n",
    "my_array"
   ]
  },
  {
   "cell_type": "markdown",
   "metadata": {},
   "source": [
    "We can also convert from one dtype to another."
   ]
  },
  {
   "cell_type": "code",
   "execution_count": 97,
   "metadata": {},
   "outputs": [
    {
     "data": {
      "text/plain": [
       "array([0, 0, 1, 1, 2, 2, 3, 3, 4, 4], dtype=int32)"
      ]
     },
     "execution_count": 97,
     "metadata": {},
     "output_type": "execute_result"
    }
   ],
   "source": [
    "my_array.astype('i')"
   ]
  },
  {
   "cell_type": "markdown",
   "metadata": {},
   "source": [
    "<a id='st5'></a>\n",
    "\n",
    "<h1 style = \"color:green;font-size:30px\" dir = \"ltr\"> <b>\n",
    "    Basics functions of a Numpy array:\n",
    "</b> </h1>"
   ]
  },
  {
   "cell_type": "markdown",
   "metadata": {},
   "source": [
    "We can get the shape of an array by using the `np.shape` function."
   ]
  },
  {
   "cell_type": "code",
   "execution_count": 98,
   "metadata": {},
   "outputs": [
    {
     "name": "stdout",
     "output_type": "stream",
     "text": [
      "(2, 3)\n"
     ]
    }
   ],
   "source": [
    "my_array = np.array([[1, 2, 3], [4, 5, 6]])\n",
    "print(my_array.shape)"
   ]
  },
  {
   "cell_type": "markdown",
   "metadata": {},
   "source": [
    "We can also get the number of elements in an array using the `size` function of arrays. Note that the number of elements is equal to product of elements of the shape of array."
   ]
  },
  {
   "cell_type": "code",
   "execution_count": 99,
   "metadata": {},
   "outputs": [
    {
     "name": "stdout",
     "output_type": "stream",
     "text": [
      "6\n",
      "6\n"
     ]
    }
   ],
   "source": [
    "print(my_array.size)\n",
    "print(np.prod(my_array.shape))"
   ]
  },
  {
   "cell_type": "markdown",
   "metadata": {},
   "source": [
    "We can get the number of dimensions of an array by either using the `len` function of Python or using the `ndim` function of arrays. Note that the number of dimensions of an array is equal to the number of elements in its shape."
   ]
  },
  {
   "cell_type": "code",
   "execution_count": 100,
   "metadata": {},
   "outputs": [
    {
     "name": "stdout",
     "output_type": "stream",
     "text": [
      "2\n",
      "2\n",
      "2\n"
     ]
    }
   ],
   "source": [
    "print(my_array.ndim)\n",
    "print(len(my_array))\n",
    "print(len(my_array.shape))"
   ]
  },
  {
   "cell_type": "markdown",
   "metadata": {},
   "source": [
    "Numpy arrays can also be reshaped as long as the product of elements of shape before and after reshaping stays the same equivalently we can say as long as the number of elements stays the same."
   ]
  },
  {
   "cell_type": "code",
   "execution_count": 101,
   "metadata": {},
   "outputs": [
    {
     "name": "stdout",
     "output_type": "stream",
     "text": [
      "[[1 2]\n",
      " [3 4]\n",
      " [5 6]]\n"
     ]
    }
   ],
   "source": [
    "my_array=my_array.reshape(3, 2)\n",
    "print(my_array)"
   ]
  },
  {
   "cell_type": "markdown",
   "metadata": {},
   "source": [
    "We can also change the number of dimensions by reshaping an array."
   ]
  },
  {
   "cell_type": "code",
   "execution_count": 102,
   "metadata": {},
   "outputs": [
    {
     "name": "stdout",
     "output_type": "stream",
     "text": [
      "[1 2 3 4 5 6]\n"
     ]
    }
   ],
   "source": [
    "my_array = my_array.reshape((6))\n",
    "print(my_array)"
   ]
  },
  {
   "cell_type": "markdown",
   "metadata": {},
   "source": [
    "We can also put -1 for a specific dimension in that way the array will be reshaped such that the number of elements stays the same."
   ]
  },
  {
   "cell_type": "code",
   "execution_count": 103,
   "metadata": {},
   "outputs": [
    {
     "name": "stdout",
     "output_type": "stream",
     "text": [
      "[[1 2]\n",
      " [3 4]\n",
      " [5 6]]\n"
     ]
    }
   ],
   "source": [
    "my_array = my_array.reshape((-1,2))\n",
    "print(my_array)"
   ]
  },
  {
   "cell_type": "markdown",
   "metadata": {},
   "source": [
    "Like lists, arrays also have append and insert functions but unlike lists, these operations are not done inplace for arrays.\n",
    "\n",
    "np.append appends values to the end of an array.\n",
    "```python\n",
    "np.append(*my_array*,*Vlaues*)\n",
    "```"
   ]
  },
  {
   "cell_type": "code",
   "execution_count": 104,
   "metadata": {},
   "outputs": [
    {
     "name": "stdout",
     "output_type": "stream",
     "text": [
      "[0 1 2 3 4]\n",
      "[0 1 2 3 4 5]\n"
     ]
    }
   ],
   "source": [
    "my_array = np.arange(0, 5)\n",
    "print(my_array)\n",
    "my_array=np.append(my_array, 5)\n",
    "print(my_array)"
   ]
  },
  {
   "cell_type": "markdown",
   "metadata": {},
   "source": [
    "When working with multi-dimensional arrays we need to specify the dimension which we want the values to be appended in. We do this by giving a value to the axis argument of np.append and many other numpy functions. In a NumPy array, axis 0 is the first axis. Assuming that we’re talking about multi-dimensional arrays, axis 0 is the axis that runs downward down the rows. When we’re talking about 2-d and multi-dimensional arrays, axis 1 is the axis that runs horizontally across the columns and so on...."
   ]
  },
  {
   "cell_type": "code",
   "execution_count": 105,
   "metadata": {},
   "outputs": [
    {
     "name": "stdout",
     "output_type": "stream",
     "text": [
      "[[1 2 3]\n",
      " [4 5 6]]\n",
      "\n",
      "\n",
      "[[1 2 3]\n",
      " [4 5 6]\n",
      " [7 8 9]]\n"
     ]
    }
   ],
   "source": [
    "my_array = np.array([[1, 2, 3], [4, 5, 6]])\n",
    "print(my_array)\n",
    "print('\\n')\n",
    "my_array = np.append(my_array, [[7, 8, 9]], axis=0)\n",
    "print(my_array)"
   ]
  },
  {
   "cell_type": "markdown",
   "metadata": {},
   "source": [
    "If we'd written axis=1, we would have seen the following error:\n",
    "\n",
    "`all the input array dimensions except for the concatenation axis must match exactly, but along dimension 0, the array at index 0 has size 3 and the array at index 1 has size 1`\n",
    "\n",
    "which is self-explanatory. To understand the difference between axis we can create a n*n array."
   ]
  },
  {
   "cell_type": "code",
   "execution_count": 106,
   "metadata": {},
   "outputs": [
    {
     "name": "stdout",
     "output_type": "stream",
     "text": [
      "[[1 2 3]\n",
      " [4 5 6]\n",
      " [7 8 9]]\n",
      "\n",
      "\n",
      "[[ 1  2  3]\n",
      " [ 4  5  6]\n",
      " [ 7  8  9]\n",
      " [-1 -2 -3]]\n",
      "\n",
      "\n",
      "[[ 1  2  3 -1]\n",
      " [ 4  5  6 -2]\n",
      " [ 7  8  9 -3]]\n"
     ]
    }
   ],
   "source": [
    "my_array = np.array([[1, 2, 3], [4, 5, 6], [7, 8, 9]])\n",
    "print(my_array)\n",
    "print('\\n')\n",
    "print(np.append(my_array, [[-1, -2, -3]], axis=0))\n",
    "print('\\n')\n",
    "print(np.append(my_array, [[-1], [-2], [-3]], axis=1))"
   ]
  },
  {
   "cell_type": "markdown",
   "metadata": {},
   "source": [
    "np.insert insert values along the given axis before the given indices."
   ]
  },
  {
   "cell_type": "code",
   "execution_count": 107,
   "metadata": {},
   "outputs": [
    {
     "name": "stdout",
     "output_type": "stream",
     "text": [
      "[0 1 2 3 4]\n",
      "[ 0 10  1  2  3  4]\n"
     ]
    }
   ],
   "source": [
    "my_array = np.arange(0, 5)\n",
    "print(my_array)\n",
    "my_array=np.insert(my_array, 1, 10)\n",
    "print(my_array)"
   ]
  },
  {
   "cell_type": "markdown",
   "metadata": {},
   "source": [
    "We can specify the axis same as before."
   ]
  },
  {
   "cell_type": "code",
   "execution_count": 108,
   "metadata": {},
   "outputs": [
    {
     "name": "stdout",
     "output_type": "stream",
     "text": [
      "[[1 2 3]\n",
      " [4 5 6]]\n",
      "\n",
      "\n",
      "[[1 2 3]\n",
      " [7 8 9]\n",
      " [4 5 6]]\n"
     ]
    }
   ],
   "source": [
    "my_array = np.array([[1, 2, 3], [4, 5, 6]])\n",
    "print(my_array)\n",
    "print('\\n')\n",
    "my_array = np.insert(my_array,1, [[7, 8, 9]], axis=0)\n",
    "print(my_array)"
   ]
  },
  {
   "cell_type": "markdown",
   "metadata": {},
   "source": [
    "There are two main ways to join several Numpy arrays."
   ]
  },
  {
   "cell_type": "markdown",
   "metadata": {},
   "source": [
    "We can use the `np.concatenate` function.\n",
    "```python\n",
    "np.concatenate((*array_1*,*array_2*,...,*array_n),axis)\n",
    "```"
   ]
  },
  {
   "cell_type": "code",
   "execution_count": 109,
   "metadata": {},
   "outputs": [
    {
     "name": "stdout",
     "output_type": "stream",
     "text": [
      "[1 2 3 4 5 6]\n"
     ]
    }
   ],
   "source": [
    "my_array_1 = np.array([1, 2, 3])\n",
    "my_array_2 = np.array([4, 5, 6])\n",
    "my_array_3 = np.concatenate((my_array_1, my_array_2), axis=0)\n",
    "print(my_array_3)"
   ]
  },
  {
   "cell_type": "markdown",
   "metadata": {},
   "source": [
    "Working with axes is same as before."
   ]
  },
  {
   "cell_type": "code",
   "execution_count": 110,
   "metadata": {},
   "outputs": [
    {
     "name": "stdout",
     "output_type": "stream",
     "text": [
      "[[1 2]\n",
      " [3 4]\n",
      " [5 6]\n",
      " [7 8]]\n",
      "\n",
      "\n",
      "[[1 2 5 6]\n",
      " [3 4 7 8]]\n"
     ]
    }
   ],
   "source": [
    "my_array_1 = np.array([[1, 2], [3, 4]])\n",
    "my_array_2 = np.array([[5, 6], [7, 8]])\n",
    "my_array_3 = np.concatenate((my_array_1, my_array_2),axis=0)\n",
    "print(my_array_3)\n",
    "print('\\n')\n",
    "my_array_3 = np.concatenate((my_array_1, my_array_2), axis=1)\n",
    "print(my_array_3)"
   ]
  },
  {
   "cell_type": "markdown",
   "metadata": {},
   "source": [
    "Stacking is same as concatenation, the only difference is that stacking is done along a new axis.\n",
    "```python\n",
    "np.stack((*array_1*,*array_2*,...,*array_n),axis)\n",
    "```"
   ]
  },
  {
   "cell_type": "code",
   "execution_count": 111,
   "metadata": {},
   "outputs": [
    {
     "name": "stdout",
     "output_type": "stream",
     "text": [
      "[[1 2 3]\n",
      " [4 5 6]]\n"
     ]
    }
   ],
   "source": [
    "my_array_1 = np.array([1, 2, 3])\n",
    "my_array_2 = np.array([4, 5, 6])\n",
    "my_array_3 = np.stack((my_array_1, my_array_2), axis=0)\n",
    "print(my_array_3)"
   ]
  },
  {
   "cell_type": "markdown",
   "metadata": {},
   "source": [
    "Split is the reverse operation of joining. By using the `np.split` function we can break an array into smaller arrays.\n",
    "```python\n",
    "np.split(*array*,*number of arrays after split*)\n",
    "```"
   ]
  },
  {
   "cell_type": "code",
   "execution_count": 112,
   "metadata": {},
   "outputs": [
    {
     "name": "stdout",
     "output_type": "stream",
     "text": [
      "[0 1 2 3 4 5]\n",
      "\n",
      "\n",
      "[array([0, 1]), array([2, 3]), array([4, 5])]\n"
     ]
    }
   ],
   "source": [
    "my_array = np.arange(6)\n",
    "print(my_array)\n",
    "print('\\n')\n",
    "print(np.split(my_array, 3,axis=0))"
   ]
  },
  {
   "cell_type": "markdown",
   "metadata": {},
   "source": [
    "We can turn any n-dimensional array to a 1d array using the `flatten` function of arrays."
   ]
  },
  {
   "cell_type": "code",
   "execution_count": 113,
   "metadata": {},
   "outputs": [
    {
     "name": "stdout",
     "output_type": "stream",
     "text": [
      "[[1 2]\n",
      " [3 4]]\n",
      "\n",
      "\n",
      "[1 2 3 4]\n"
     ]
    }
   ],
   "source": [
    "my_array = np.array([[1, 2], [3, 4]])\n",
    "print(my_array)\n",
    "print('\\n')\n",
    "print(my_array.flatten())"
   ]
  },
  {
   "cell_type": "markdown",
   "metadata": {},
   "source": [
    "We can sort arrays using `np.sort`(not inplace) or `sort` function of arrays(inplace)."
   ]
  },
  {
   "cell_type": "code",
   "execution_count": 114,
   "metadata": {},
   "outputs": [
    {
     "name": "stdout",
     "output_type": "stream",
     "text": [
      "[4 3 2 1]\n",
      "[1 2 3 4]\n",
      "[4 3 2 1]\n"
     ]
    }
   ],
   "source": [
    "my_array = np.array([4,3,2,1])\n",
    "print(my_array)\n",
    "print(np.sort(my_array))\n",
    "print(my_array)"
   ]
  },
  {
   "cell_type": "code",
   "execution_count": 115,
   "metadata": {},
   "outputs": [
    {
     "name": "stdout",
     "output_type": "stream",
     "text": [
      "[1 2 3 4]\n"
     ]
    }
   ],
   "source": [
    "my_array.sort()\n",
    "print(my_array)"
   ]
  },
  {
   "cell_type": "markdown",
   "metadata": {},
   "source": [
    "We can also filter Numpy arrays by a condition and only get elements that satisfy the condition. Putting a condition on arrays in this way returns another array of same shape but each element is either True or False based on the condition."
   ]
  },
  {
   "cell_type": "code",
   "execution_count": 116,
   "metadata": {},
   "outputs": [
    {
     "name": "stdout",
     "output_type": "stream",
     "text": [
      "[1 2 3 4]\n",
      "[False  True False  True]\n",
      "[ True  True False False]\n"
     ]
    }
   ],
   "source": [
    "print(my_array)\n",
    "print(my_array % 2 == 0)\n",
    "print(my_array < 3)"
   ]
  },
  {
   "cell_type": "markdown",
   "metadata": {},
   "source": [
    "So by giving these boolean values as indices we can get the elements that satisfy the condition."
   ]
  },
  {
   "cell_type": "code",
   "execution_count": 117,
   "metadata": {},
   "outputs": [
    {
     "name": "stdout",
     "output_type": "stream",
     "text": [
      "[2 4]\n",
      "[1 2]\n"
     ]
    }
   ],
   "source": [
    "print(my_array[my_array % 2 == 0])\n",
    "print(my_array[my_array < 3])"
   ]
  },
  {
   "cell_type": "markdown",
   "metadata": {},
   "source": [
    "You can also use `np.where` to filter an array. This function returns the indices whoses elements satisfy the condition."
   ]
  },
  {
   "cell_type": "code",
   "execution_count": 118,
   "metadata": {},
   "outputs": [
    {
     "name": "stdout",
     "output_type": "stream",
     "text": [
      "[1 2 3 4]\n",
      "(array([1, 3], dtype=int64),)\n",
      "(array([0, 1], dtype=int64),)\n"
     ]
    }
   ],
   "source": [
    "print(my_array)\n",
    "print(np.where(my_array % 2 == 0))\n",
    "print(np.where(my_array < 3))"
   ]
  },
  {
   "cell_type": "markdown",
   "metadata": {},
   "source": [
    "As before we can get the elements themselves by giving these indices to the array."
   ]
  },
  {
   "cell_type": "code",
   "execution_count": 119,
   "metadata": {},
   "outputs": [
    {
     "name": "stdout",
     "output_type": "stream",
     "text": [
      "[1 2 3 4]\n",
      "[2 4]\n",
      "[1 2]\n"
     ]
    }
   ],
   "source": [
    "print(my_array)\n",
    "print(my_array[np.where(my_array % 2 == 0)])\n",
    "print(my_array[np.where(my_array < 3)])"
   ]
  },
  {
   "cell_type": "markdown",
   "metadata": {},
   "source": [
    "<a id='st6'></a>\n",
    "\n",
    "<h1 style = \"color:green;font-size:30px\" dir = \"ltr\"> <b>\n",
    "    Mathematical functions of Numpy:\n",
    "</b> </h1>"
   ]
  },
  {
   "cell_type": "code",
   "execution_count": 120,
   "metadata": {},
   "outputs": [
    {
     "name": "stdout",
     "output_type": "stream",
     "text": [
      "[0 1 2 3 4]\n",
      "[5 6 7 8 9]\n"
     ]
    }
   ],
   "source": [
    "my_array_1 = np.arange(5)\n",
    "print(my_array_1)\n",
    "my_array_2 = np.arange(5,10)\n",
    "print(my_array_2)"
   ]
  },
  {
   "cell_type": "markdown",
   "metadata": {},
   "source": [
    "We can add, subtract, divide or multiply two arrays element by element using the +, -, / or * operator. Note that if we used + between lists it would have joined them."
   ]
  },
  {
   "cell_type": "code",
   "execution_count": 121,
   "metadata": {},
   "outputs": [
    {
     "name": "stdout",
     "output_type": "stream",
     "text": [
      "[ 5  7  9 11 13]\n",
      "[-5 -5 -5 -5 -5]\n",
      "[0.         0.16666667 0.28571429 0.375      0.44444444]\n",
      "[ 0  6 14 24 36]\n"
     ]
    }
   ],
   "source": [
    "print(my_array_1 + my_array_2)\n",
    "print(my_array_1 - my_array_2)\n",
    "print(my_array_1 / my_array_2)\n",
    "print(my_array_1 * my_array_2)"
   ]
  },
  {
   "cell_type": "markdown",
   "metadata": {},
   "source": [
    "It's also possible to use the np functions for these operators."
   ]
  },
  {
   "cell_type": "code",
   "execution_count": 122,
   "metadata": {},
   "outputs": [
    {
     "name": "stdout",
     "output_type": "stream",
     "text": [
      "[ 5  7  9 11 13]\n",
      "[-5 -5 -5 -5 -5]\n",
      "[0.         0.16666667 0.28571429 0.375      0.44444444]\n",
      "[ 0  6 14 24 36]\n"
     ]
    }
   ],
   "source": [
    "print(np.add(my_array_1, my_array_2))\n",
    "print(np.subtract(my_array_1, my_array_2))\n",
    "print(np.divide(my_array_1, my_array_2))\n",
    "print(np.multiply(my_array_1, my_array_2))"
   ]
  },
  {
   "cell_type": "markdown",
   "metadata": {},
   "source": [
    "We can take the dot product by using the @ operator or by using the `np.dot` function."
   ]
  },
  {
   "cell_type": "code",
   "execution_count": 125,
   "metadata": {},
   "outputs": [
    {
     "name": "stdout",
     "output_type": "stream",
     "text": [
      "[80]\n",
      "[80]\n"
     ]
    }
   ],
   "source": [
    "print(my_array_1 @ my_array_2.reshape(5,1))\n",
    "print(np.dot(my_array_1, my_array_2.reshape(5,1)))"
   ]
  },
  {
   "cell_type": "markdown",
   "metadata": {},
   "source": [
    "We can take cross product by using `np.cross` function."
   ]
  },
  {
   "cell_type": "code",
   "execution_count": 131,
   "metadata": {},
   "outputs": [
    {
     "data": {
      "text/plain": [
       "array([-3,  6, -3])"
      ]
     },
     "execution_count": 131,
     "metadata": {},
     "output_type": "execute_result"
    }
   ],
   "source": [
    "x = [1, 2, 3]\n",
    "y = [4, 5, 6]\n",
    "np.cross(x, y)"
   ]
  },
  {
   "cell_type": "markdown",
   "metadata": {},
   "source": [
    "We can take absolute value of each element using `np.abs`."
   ]
  },
  {
   "cell_type": "code",
   "execution_count": 132,
   "metadata": {},
   "outputs": [
    {
     "data": {
      "text/plain": [
       "array([1, 2, 3])"
      ]
     },
     "execution_count": 132,
     "metadata": {},
     "output_type": "execute_result"
    }
   ],
   "source": [
    "np.abs([-1, -2, 3])"
   ]
  },
  {
   "cell_type": "markdown",
   "metadata": {},
   "source": [
    "We can find `min`, `max`, `mean`, `std`, `var` of an array."
   ]
  },
  {
   "cell_type": "code",
   "execution_count": 134,
   "metadata": {},
   "outputs": [
    {
     "name": "stdout",
     "output_type": "stream",
     "text": [
      "[0 1 2 3 4]\n",
      "2.0\n",
      "2.0\n",
      "0\n",
      "4\n",
      "1.4142135623730951\n",
      "2.0\n"
     ]
    }
   ],
   "source": [
    "my_array=np.arange(5)\n",
    "print(my_array)\n",
    "print(my_array.mean())\n",
    "print(np.mean(my_array))\n",
    "print(my_array.min())\n",
    "print(my_array.max())\n",
    "print(my_array.std())\n",
    "print(my_array.var())"
   ]
  },
  {
   "cell_type": "markdown",
   "metadata": {},
   "source": [
    "We can get the sum of elements or product of elements of an array using `sum` or `prod` functions."
   ]
  },
  {
   "cell_type": "code",
   "execution_count": 135,
   "metadata": {},
   "outputs": [
    {
     "name": "stdout",
     "output_type": "stream",
     "text": [
      "10\n",
      "0\n"
     ]
    }
   ],
   "source": [
    "print(my_array.sum())\n",
    "print(my_array.prod())"
   ]
  },
  {
   "cell_type": "markdown",
   "metadata": {},
   "source": [
    "We can get the transpose of an array by using `T` or using `np.transpose`."
   ]
  },
  {
   "cell_type": "code",
   "execution_count": 140,
   "metadata": {},
   "outputs": [
    {
     "name": "stdout",
     "output_type": "stream",
     "text": [
      "[[1 2]\n",
      " [3 4]]\n",
      "\n",
      "\n",
      "[[1 3]\n",
      " [2 4]]\n",
      "\n",
      "\n",
      "[[1 3]\n",
      " [2 4]]\n"
     ]
    }
   ],
   "source": [
    "my_array=np.array([[1, 2], [3, 4]])\n",
    "print(my_array)\n",
    "print('\\n')\n",
    "print(my_array.T)\n",
    "print('\\n')\n",
    "print(np.transpose(my_array))"
   ]
  },
  {
   "cell_type": "markdown",
   "metadata": {},
   "source": [
    "We can get cumulative sum or product by using `cumsum` or `cumprod`."
   ]
  },
  {
   "cell_type": "code",
   "execution_count": 141,
   "metadata": {},
   "outputs": [
    {
     "name": "stdout",
     "output_type": "stream",
     "text": [
      "[ 1  3  6 10]\n",
      "[ 1  2  6 24]\n"
     ]
    }
   ],
   "source": [
    "print(my_array.cumsum())\n",
    "print(my_array.cumprod())"
   ]
  },
  {
   "cell_type": "markdown",
   "metadata": {},
   "source": [
    "We can get `log` or `exp` of elements of an array."
   ]
  },
  {
   "cell_type": "code",
   "execution_count": 147,
   "metadata": {},
   "outputs": [
    {
     "name": "stdout",
     "output_type": "stream",
     "text": [
      "[[0.         0.69314718]\n",
      " [1.09861229 1.38629436]]\n",
      "\n",
      "\n",
      "[[ 2.71828183  7.3890561 ]\n",
      " [20.08553692 54.59815003]]\n"
     ]
    }
   ],
   "source": [
    "print(np.log(my_array))\n",
    "print('\\n')\n",
    "print(np.exp(my_array))"
   ]
  },
  {
   "cell_type": "markdown",
   "metadata": {},
   "source": [
    "We can convolve on array to another using `np.convolve`."
   ]
  },
  {
   "cell_type": "code",
   "execution_count": 173,
   "metadata": {},
   "outputs": [
    {
     "data": {
      "text/plain": [
       "array([ 0,  0,  1,  4,  7, 10, 13, 16, 19, 22, 25, 18])"
      ]
     },
     "execution_count": 173,
     "metadata": {},
     "output_type": "execute_result"
    }
   ],
   "source": [
    "my_array_1 = np.arange(10)\n",
    "my_array_2 = np.arange(3)\n",
    "np.convolve(my_array_1,my_array_2)"
   ]
  },
  {
   "cell_type": "markdown",
   "metadata": {},
   "source": [
    "There are many other mathematical functions that numpy sopprts and you can easily find them and use them in your projects. There also many functions related to linear algebra in `np.linalg` class."
   ]
  },
  {
   "cell_type": "markdown",
   "metadata": {},
   "source": [
    "<a id='st7'></a>\n",
    "\n",
    "<h1 style = \"color:green;font-size:30px\" dir = \"ltr\"> <b>\n",
    "    Random from Numpy:\n",
    "</b> </h1>"
   ]
  },
  {
   "cell_type": "markdown",
   "metadata": {},
   "source": [
    "Numpy also has many functions related to probability and randomness. In np.random functions usually get the size parameter which is the shape of the array."
   ]
  },
  {
   "cell_type": "code",
   "execution_count": 149,
   "metadata": {},
   "outputs": [],
   "source": [
    "from numpy import random"
   ]
  },
  {
   "cell_type": "markdown",
   "metadata": {},
   "source": [
    "We can set the random seed in the beginning so that our result would be reproducible."
   ]
  },
  {
   "cell_type": "code",
   "execution_count": 167,
   "metadata": {},
   "outputs": [],
   "source": [
    "random.seed(0)"
   ]
  },
  {
   "cell_type": "markdown",
   "metadata": {},
   "source": [
    "We can create an array of some shape filled with random numbers sampled from a famous distribution."
   ]
  },
  {
   "cell_type": "markdown",
   "metadata": {},
   "source": [
    "`rand(*Shape*)` samples from uniform distribution over [0,1)."
   ]
  },
  {
   "cell_type": "code",
   "execution_count": 154,
   "metadata": {},
   "outputs": [
    {
     "data": {
      "text/plain": [
       "array([[0.39601663, 0.04148433, 0.00253125],\n",
       "       [0.2411368 , 0.29498103, 0.66959385]])"
      ]
     },
     "execution_count": 154,
     "metadata": {},
     "output_type": "execute_result"
    }
   ],
   "source": [
    "random.rand(2, 3)"
   ]
  },
  {
   "cell_type": "markdown",
   "metadata": {},
   "source": [
    "`randint(*Low*,*High*,*Shape*)` samples from discrete uniform distribution over [low,high)"
   ]
  },
  {
   "cell_type": "code",
   "execution_count": 155,
   "metadata": {},
   "outputs": [
    {
     "data": {
      "text/plain": [
       "array([[0, 6, 3],\n",
       "       [8, 0, 1]])"
      ]
     },
     "execution_count": 155,
     "metadata": {},
     "output_type": "execute_result"
    }
   ],
   "source": [
    "random.randint(0, 10, (2, 3))"
   ]
  },
  {
   "cell_type": "markdown",
   "metadata": {},
   "source": [
    "`randn(*Shape*)` samples from standard normal distribution."
   ]
  },
  {
   "cell_type": "code",
   "execution_count": 157,
   "metadata": {},
   "outputs": [
    {
     "data": {
      "text/plain": [
       "array([[ 0.11266913,  0.72338762, -1.75682342],\n",
       "       [-1.38526859,  0.46725728, -0.00865833]])"
      ]
     },
     "execution_count": 157,
     "metadata": {},
     "output_type": "execute_result"
    }
   ],
   "source": [
    "random.randn(2, 3)"
   ]
  },
  {
   "cell_type": "markdown",
   "metadata": {},
   "source": [
    "We can also sample from many other famous distributions by giving their parameters and shape."
   ]
  },
  {
   "cell_type": "code",
   "execution_count": 161,
   "metadata": {},
   "outputs": [
    {
     "name": "stdout",
     "output_type": "stream",
     "text": [
      "[[4 7 7]\n",
      " [4 4 4]]\n",
      "[[1.55430343 2.3984856  2.28495172]\n",
      " [2.90915565 1.24648389 2.49826987]]\n",
      "[[2 3 3]\n",
      " [4 3 3]]\n",
      "[[2.10634929 2.88268869 2.24024582]\n",
      " [2.88695041 2.20108213 2.82711473]]\n"
     ]
    }
   ],
   "source": [
    "print(random.binomial(10, 0.5, (2, 3)))\n",
    "print(random.normal(2, 0.5, (2, 3)))\n",
    "print(random.poisson(2, (2, 3)))\n",
    "print(random.uniform(2,3, (2, 3)))"
   ]
  },
  {
   "cell_type": "markdown",
   "metadata": {},
   "source": [
    "We can sample from an array by giving the probabilities of choosing each element using the `choice` function."
   ]
  },
  {
   "cell_type": "code",
   "execution_count": 164,
   "metadata": {},
   "outputs": [
    {
     "data": {
      "text/plain": [
       "array([3, 5, 7, 7, 7, 7, 3, 5, 7, 7])"
      ]
     },
     "execution_count": 164,
     "metadata": {},
     "output_type": "execute_result"
    }
   ],
   "source": [
    "random.choice([3, 5, 7, 9], p=[0.1, 0.3, 0.6, 0.0], size=(10))"
   ]
  },
  {
   "cell_type": "markdown",
   "metadata": {},
   "source": [
    "We can shuffle an array using `shuffle`. Note that this function shuffles inplace but we can use `permutation` that gives a random permutation and is not inplace."
   ]
  },
  {
   "cell_type": "code",
   "execution_count": 172,
   "metadata": {},
   "outputs": [
    {
     "name": "stdout",
     "output_type": "stream",
     "text": [
      "[4 2 3 1 0]\n",
      "[0 1 2 3 4]\n",
      "[2 3 4 1 0]\n"
     ]
    }
   ],
   "source": [
    "my_array=np.arange(5)\n",
    "print(random.permutation(my_array))\n",
    "print(my_array)\n",
    "random.shuffle(my_array)\n",
    "print(my_array)"
   ]
  }
 ],
 "metadata": {
  "kernelspec": {
   "display_name": "Python 3",
   "language": "python",
   "name": "python3"
  },
  "language_info": {
   "codemirror_mode": {
    "name": "ipython",
    "version": 3
   },
   "file_extension": ".py",
   "mimetype": "text/x-python",
   "name": "python",
   "nbconvert_exporter": "python",
   "pygments_lexer": "ipython3",
   "version": "3.12.4"
  }
 },
 "nbformat": 4,
 "nbformat_minor": 2
}
